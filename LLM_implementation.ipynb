{
 "cells": [
  {
   "cell_type": "code",
   "execution_count": 1,
   "id": "58844d7c",
   "metadata": {},
   "outputs": [
    {
     "name": "stdout",
     "output_type": "stream",
     "text": [
      "WARNING:tensorflow:From C:\\Users\\abhra\\anaconda3\\lib\\site-packages\\keras\\src\\losses.py:2976: The name tf.losses.sparse_softmax_cross_entropy is deprecated. Please use tf.compat.v1.losses.sparse_softmax_cross_entropy instead.\n",
      "\n"
     ]
    }
   ],
   "source": [
    "from transformers import pipeline, DistilBertTokenizer, DistilBertForSequenceClassification\n",
    "from gensim.models import Word2Vec\n",
    "from nltk.tokenize import word_tokenize\n",
    "from sklearn.model_selection import train_test_split\n",
    "from sklearn.metrics import accuracy_score\n",
    "import nltk\n",
    "import torch\n",
    "import numpy as np"
   ]
  },
  {
   "cell_type": "code",
   "execution_count": 2,
   "id": "38029317",
   "metadata": {},
   "outputs": [
    {
     "name": "stdout",
     "output_type": "stream",
     "text": [
      "Requirement already satisfied: opencv-python in c:\\users\\abhra\\anaconda3\\lib\\site-packages (4.6.0.66)\n",
      "Requirement already satisfied: pytesseract in c:\\users\\abhra\\anaconda3\\lib\\site-packages (0.3.10)\n",
      "Requirement already satisfied: numpy>=1.14.5 in c:\\users\\abhra\\anaconda3\\lib\\site-packages (from opencv-python) (1.24.3)\n",
      "Requirement already satisfied: Pillow>=8.0.0 in c:\\users\\abhra\\anaconda3\\lib\\site-packages (from pytesseract) (10.2.0)\n",
      "Requirement already satisfied: packaging>=21.3 in c:\\users\\abhra\\anaconda3\\lib\\site-packages (from pytesseract) (22.0)\n"
     ]
    },
    {
     "name": "stderr",
     "output_type": "stream",
     "text": [
      "WARNING: Ignoring invalid distribution -ensorflow-intel (c:\\users\\abhra\\anaconda3\\lib\\site-packages)\n",
      "WARNING: Ignoring invalid distribution -ensorflow-intel (c:\\users\\abhra\\anaconda3\\lib\\site-packages)\n",
      "WARNING: Ignoring invalid distribution -ensorflow-intel (c:\\users\\abhra\\anaconda3\\lib\\site-packages)\n",
      "WARNING: Ignoring invalid distribution -ensorflow-intel (c:\\users\\abhra\\anaconda3\\lib\\site-packages)\n",
      "WARNING: Ignoring invalid distribution -ensorflow-intel (c:\\users\\abhra\\anaconda3\\lib\\site-packages)\n",
      "WARNING: Ignoring invalid distribution -ensorflow-intel (c:\\users\\abhra\\anaconda3\\lib\\site-packages)\n"
     ]
    }
   ],
   "source": [
    "! pip install opencv-python pytesseract"
   ]
  },
  {
   "cell_type": "code",
   "execution_count": 3,
   "id": "2e2c8178",
   "metadata": {},
   "outputs": [],
   "source": [
    "import pytesseract\n",
    "pytesseract.pytesseract.tesseract_cmd=r'C:\\\\Program Files\\\\Tesseract-OCR\\\\tesseract.exe'"
   ]
  },
  {
   "cell_type": "code",
   "execution_count": 4,
   "id": "e1e4d54f",
   "metadata": {},
   "outputs": [],
   "source": [
    "import cv2\n",
    "import matplotlib.pyplot as plt"
   ]
  },
  {
   "cell_type": "code",
   "execution_count": 5,
   "id": "c5c00ffd",
   "metadata": {},
   "outputs": [],
   "source": [
    "img = cv2.imread('ss.png')"
   ]
  },
  {
   "cell_type": "code",
   "execution_count": 6,
   "id": "628e828e",
   "metadata": {},
   "outputs": [
    {
     "name": "stdout",
     "output_type": "stream",
     "text": [
      "Subscribe to Poe\n",
      "Enjoy 17% off with a yearly Poe subscription.\n",
      "\n",
      "V Send and receive more messages daily\n",
      "\n",
      "V Access the most powerful models, like GPT-4, Claude-2-100k, and more\n",
      "\n",
      "V Exchange faster responses with bots\n",
      "\n",
      "View all plans >\n",
      "\n",
      "By subscribing, you are enrolling in automatic payments of $19900.00/year (plus tax. where applicable). You'll receive\n",
      "unlimited messaging on popular bots like ChatGPT and Claude-instant, and up to 600 and 1,000 messages on powerful bots\n",
      "like GPT-4 and Claude-2-100k. After messaging limits are reached, messaging speed, quality or bot availability may be\n",
      "reduced. Cancel or manage your subscription through Stripe’s customer portal from Settings. Subscriber Terms apply.\n",
      "\n"
     ]
    }
   ],
   "source": [
    "text = pytesseract.image_to_string(img)\n",
    "print(text)"
   ]
  },
  {
   "cell_type": "code",
   "execution_count": 7,
   "id": "30c81f45",
   "metadata": {},
   "outputs": [],
   "source": [
    "import requests\n",
    "import json\n",
    "\n",
    "OPENROUTER_API_KEY = \"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\"\n",
    "\n",
    "def chat_completion(user_input):\n",
    "    response = requests.post(\n",
    "        url=\"https://openrouter.ai/api/v1/chat/completions\",\n",
    "        headers={\"Authorization\": f\"Bearer {OPENROUTER_API_KEY}\"},\n",
    "        data=json.dumps({\n",
    "            \"model\": \"mistralai/mixtral-8x7b-instruct\",\n",
    "            \"messages\": [{\"role\": \"user\", \"content\": user_input}]\n",
    "        })\n",
    "    )\n",
    "\n",
    "    # Parsing the JSON response\n",
    "    response_data = json.loads(response.text)\n",
    "\n",
    "    # Extracting the assistant's message content\n",
    "    if 'choices' in response_data and response_data['choices']:\n",
    "        assistant_message = response_data['choices'][0]['message']['content']\n",
    "        return assistant_message\n",
    "    else:\n",
    "        return \"No valid response found.\"\n",
    "     "
   ]
  },
  {
   "cell_type": "code",
   "execution_count": 9,
   "id": "28fdc015",
   "metadata": {},
   "outputs": [
    {
     "name": "stdout",
     "output_type": "stream",
     "text": [
      "Yes, there is a dark pattern in the paragraph. It is the use of automatic payments without clear and upfront notification. This can trick users into paying for a service they might not have intended to purchase long-term. Additionally, the mention of unlimited messaging but with reduced quality or availability after reaching a limit can also be considered a dark pattern as it is not fully transparent and can lead to user frustration.\n"
     ]
    }
   ],
   "source": [
    "prompt = f\"Is there any dark pattern related text in this paragraph: {text}.\"\n",
    "answer = chat_completion(prompt)\n",
    "print(answer)"
   ]
  },
  {
   "cell_type": "code",
   "execution_count": null,
   "id": "07698278",
   "metadata": {},
   "outputs": [],
   "source": []
  }
 ],
 "metadata": {
  "kernelspec": {
   "display_name": "Python 3 (ipykernel)",
   "language": "python",
   "name": "python3"
  },
  "language_info": {
   "codemirror_mode": {
    "name": "ipython",
    "version": 3
   },
   "file_extension": ".py",
   "mimetype": "text/x-python",
   "name": "python",
   "nbconvert_exporter": "python",
   "pygments_lexer": "ipython3",
   "version": "3.10.9"
  }
 },
 "nbformat": 4,
 "nbformat_minor": 5
}
